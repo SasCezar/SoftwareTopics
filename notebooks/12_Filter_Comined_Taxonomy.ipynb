{
 "cells": [
  {
   "cell_type": "code",
   "execution_count": 1,
   "id": "initial_id",
   "metadata": {
    "collapsed": true,
    "ExecuteTime": {
     "end_time": "2024-02-08T11:43:58.954977903Z",
     "start_time": "2024-02-08T11:43:58.847123275Z"
    }
   },
   "source": [
    "import networkx as nx\n",
    "from more_itertools import flatten\n",
    "from entity.taxonomy import Taxonomy\n",
    "\n",
    "combined_taxonomy = Taxonomy('combined-filtered').load('../data/interim/mixed_gitranking_cso_wikidata.json')"
   ],
   "outputs": []
  },
  {
   "cell_type": "code",
   "source": [
    "len(set(flatten(combined_taxonomy.pairs)))"
   ],
   "metadata": {
    "collapsed": false,
    "ExecuteTime": {
     "end_time": "2024-02-08T11:44:36.759463577Z",
     "start_time": "2024-02-08T11:44:36.739474760Z"
    }
   },
   "id": "77cbbd98ff3d7cc5",
   "execution_count": 5,
   "outputs": []
  },
  {
   "cell_type": "code",
   "source": [
    "import pandas as pd\n",
    "\n",
    "llm_ad = pd.read_csv('../data/interim/llm_responses_is_ad.csv')\n",
    "llm_ad = llm_ad[llm_ad['response'] == '0']\n"
   ],
   "metadata": {
    "collapsed": false,
    "ExecuteTime": {
     "end_time": "2024-02-08T11:58:37.774152386Z",
     "start_time": "2024-02-08T11:58:37.681411920Z"
    }
   },
   "id": "b0b1a9c9ec4e2d19",
   "execution_count": 34,
   "outputs": []
  },
  {
   "cell_type": "code",
   "source": [
    "llm_ad"
   ],
   "metadata": {
    "collapsed": false,
    "ExecuteTime": {
     "end_time": "2024-02-08T11:58:38.577970301Z",
     "start_time": "2024-02-08T11:58:38.512649729Z"
    }
   },
   "id": "bbd5e971ca4b246",
   "execution_count": 35,
   "outputs": []
  },
  {
   "cell_type": "code",
   "source": [
    "filtered_pairs = []\n",
    "remaining_pairs = []\n",
    "for pair in combined_taxonomy.pairs:\n",
    "    if any(term in llm_ad['term'].values for term in [pair[0], pair[1]]):\n",
    "        filtered_pairs.append(pair)\n",
    "    else:\n",
    "        remaining_pairs.append(pair)\n",
    "        \n",
    "print(len(filtered_pairs), len(combined_taxonomy.pairs))"
   ],
   "metadata": {
    "collapsed": false,
    "ExecuteTime": {
     "end_time": "2024-02-08T11:58:45.383290728Z",
     "start_time": "2024-02-08T11:58:45.095668192Z"
    }
   },
   "id": "dbb581143b1d9c8b",
   "execution_count": 36,
   "outputs": []
  },
  {
   "cell_type": "code",
   "source": [
    "filtered_pairs\n"
   ],
   "metadata": {
    "collapsed": false,
    "ExecuteTime": {
     "end_time": "2024-02-08T11:58:47.351711099Z",
     "start_time": "2024-02-08T11:58:47.268125546Z"
    }
   },
   "id": "a53052fdafa3e715",
   "execution_count": 37,
   "outputs": []
  },
  {
   "cell_type": "code",
   "source": [
    "wiki_filtered = sum([1 for x in filtered_pairs if 'wikidata' == x[2]])\n",
    "print(wiki_filtered)\n",
    "cso_filtered = sum([1 for x in filtered_pairs if 'cso' == x[2]])\n",
    "print(cso_filtered)\n"
   ],
   "metadata": {
    "collapsed": false,
    "ExecuteTime": {
     "end_time": "2024-02-08T11:58:55.071213336Z",
     "start_time": "2024-02-08T11:58:55.007779374Z"
    }
   },
   "id": "30a239a589c6e37",
   "execution_count": 38,
   "outputs": []
  },
  {
   "cell_type": "code",
   "source": [
    "remaining_pairs"
   ],
   "metadata": {
    "collapsed": false,
    "ExecuteTime": {
     "end_time": "2024-02-08T11:58:56.843687118Z",
     "start_time": "2024-02-08T11:58:56.768603305Z"
    }
   },
   "id": "d25ab166e0aa1087",
   "execution_count": 39,
   "outputs": []
  },
  {
   "cell_type": "code",
   "source": [
    "hex_colors = ['#FF0000', '#00FF00', '#0000FF', '#FFFF00', '#00FFFF', '#FF00FF', '#800000', '#008000', '#000080']\n",
    "\n",
    "origin_to_color = {'cso': hex_colors[0], 'wikidata': hex_colors[1], 'gitranking': hex_colors[2], \n",
    "                   'root': hex_colors[3]}\n",
    "nodes = [(x, y, origin_to_color[t]) for x, y, t in combined_taxonomy.pairs if [x, y, t] not in filtered_pairs]\n",
    "df = pd.DataFrame(nodes, columns=['source', 'target', 'color'])\n",
    "df.to_csv('../data/interim/joined_graph_combined_filtered_new.csv', index=False)"
   ],
   "metadata": {
    "collapsed": false,
    "ExecuteTime": {
     "end_time": "2024-02-08T11:58:57.675913041Z",
     "start_time": "2024-02-08T11:58:57.598895693Z"
    }
   },
   "id": "409fa4e41c4eaf63",
   "execution_count": 40,
   "outputs": []
  },
  {
   "cell_type": "code",
   "source": [
    "a = []\n",
    "for i in combined_taxonomy.pairs:\n",
    "    if i in filtered_pairs:\n",
    "        a.append(i)\n",
    "print(len(a))\n",
    "print(len(combined_taxonomy.pairs))\n",
    "print(len(nodes))"
   ],
   "metadata": {
    "collapsed": false,
    "ExecuteTime": {
     "end_time": "2024-02-08T11:59:00.324402118Z",
     "start_time": "2024-02-08T11:59:00.207261682Z"
    }
   },
   "id": "ebc528b7c5544889",
   "execution_count": 41,
   "outputs": []
  },
  {
   "cell_type": "code",
   "source": [
    "for node in no_parent:\n",
    "    g.add_edges_from([(node, 'root', {\"origin\": 'root'})])\n",
    "    "
   ],
   "metadata": {
    "collapsed": false
   },
   "id": "e3e3782da78a3bb9",
   "execution_count": 58,
   "outputs": []
  },
  {
   "cell_type": "code",
   "source": [
    "nx.shortest_path_length(g, 'root')"
   ],
   "metadata": {
    "collapsed": false,
    "ExecuteTime": {
     "end_time": "2024-02-01T10:34:13.831647477Z",
     "start_time": "2024-02-01T10:34:13.821081044Z"
    }
   },
   "id": "34da35ce551aa20d",
   "execution_count": 61,
   "outputs": []
  },
  {
   "cell_type": "code",
   "source": [
    "\n",
    "G = g\n",
    "paths = []\n",
    "sink_nodes = [node for node, outdegree in G.out_degree(G.nodes()) if outdegree == 0]\n",
    "source_nodes = [node for node, indegree in G.in_degree(G.nodes()) if indegree == 0]\n",
    "for source, sink in [(source, sink) for sink in sink_nodes for source in source_nodes]:\n",
    "    for path in nx.all_simple_paths(G, source=source, target=sink):\n",
    "        paths.append(path)\n"
   ],
   "metadata": {
    "collapsed": false,
    "ExecuteTime": {
     "end_time": "2024-02-01T10:37:20.105350183Z",
     "start_time": "2024-02-01T10:37:20.064796641Z"
    }
   },
   "id": "43482d1d001a483c",
   "execution_count": 64,
   "outputs": []
  },
  {
   "cell_type": "code",
   "source": [
    "from collections import defaultdict\n",
    "\n",
    "paths_passing_throught_node = defaultdict(list)\n",
    "for node in G.nodes():\n",
    "    paths_passing_throught_node[node].extend([path for path in paths if node in path])"
   ],
   "metadata": {
    "collapsed": false,
    "ExecuteTime": {
     "end_time": "2024-02-01T12:09:00.632082116Z",
     "start_time": "2024-02-01T12:09:00.614761819Z"
    }
   },
   "id": "e9f443410daacf23",
   "execution_count": 80,
   "outputs": []
  },
  {
   "cell_type": "code",
   "source": [
    "distances = [len(x) for x in paths]"
   ],
   "metadata": {
    "collapsed": false,
    "ExecuteTime": {
     "end_time": "2024-02-01T10:37:35.813356074Z",
     "start_time": "2024-02-01T10:37:35.768763552Z"
    }
   },
   "id": "e5f025793cf22267",
   "execution_count": 65,
   "outputs": []
  },
  {
   "cell_type": "code",
   "source": [
    "distances"
   ],
   "metadata": {
    "collapsed": false,
    "ExecuteTime": {
     "end_time": "2024-02-01T10:37:37.301222926Z",
     "start_time": "2024-02-01T10:37:37.278414601Z"
    }
   },
   "id": "3e1308a9ca7dea8b",
   "execution_count": 66,
   "outputs": []
  },
  {
   "cell_type": "code",
   "source": [
    "import numpy as np\n",
    "\n",
    "print(np.max(distances))\n",
    "print(np.min(distances))\n",
    "print(np.mean(distances))\n",
    "print(np.std(distances))\n",
    "print(np.median(distances))"
   ],
   "metadata": {
    "collapsed": false,
    "ExecuteTime": {
     "end_time": "2024-02-01T10:38:20.702490348Z",
     "start_time": "2024-02-01T10:38:20.660250145Z"
    }
   },
   "id": "879739c6c1b809f2",
   "execution_count": 67,
   "outputs": []
  },
  {
   "cell_type": "code",
   "source": [
    "paths"
   ],
   "metadata": {
    "collapsed": false,
    "ExecuteTime": {
     "end_time": "2024-02-01T11:55:18.589487181Z",
     "start_time": "2024-02-01T11:55:18.540576757Z"
    }
   },
   "id": "bd7f4543768317a6",
   "execution_count": 69,
   "outputs": []
  },
  {
   "cell_type": "code",
   "source": [
    "\n",
    "wiki_taxonomy = Taxonomy.load(f'../data/interim/new_gitranking_wikidata.json')\n",
    "wiki_edges = [(pair[0], pair[1]) for pair in wiki_taxonomy.pairs]\n",
    "removed_nodes = []\n",
    "for node in g:\n",
    "    inwards = g.in_edges(node)\n",
    "    outwards = g.out_edges(node)\n",
    "    both_edges = list(inwards) + list(outwards)\n",
    "    #if all(edge in wiki_edges for edge in both_edges):\n",
    "    t = list(flatten(paths_passing_throught_node[node]))\n",
    "    print(t)\n",
    "    if not set(t).intersection(set(gitranking.terms)):\n",
    "        removed_nodes.append(node)"
   ],
   "metadata": {
    "collapsed": false,
    "ExecuteTime": {
     "end_time": "2024-02-01T12:10:43.797271486Z",
     "start_time": "2024-02-01T12:10:43.713115299Z"
    }
   },
   "id": "edbd609285f0a01",
   "execution_count": 85,
   "outputs": []
  },
  {
   "cell_type": "code",
   "source": [],
   "metadata": {
    "collapsed": false,
    "ExecuteTime": {
     "end_time": "2024-02-01T12:10:44.268692340Z",
     "start_time": "2024-02-01T12:10:44.259564472Z"
    }
   },
   "id": "e6660e32100111dd",
   "execution_count": 85,
   "outputs": []
  },
  {
   "cell_type": "code",
   "source": [
    "removed_nodes"
   ],
   "metadata": {
    "collapsed": false,
    "ExecuteTime": {
     "end_time": "2024-02-01T12:11:08.783744486Z",
     "start_time": "2024-02-01T12:11:08.735928091Z"
    }
   },
   "id": "b99d0590a12df4f3",
   "execution_count": 87,
   "outputs": []
  },
  {
   "cell_type": "code",
   "source": [],
   "metadata": {
    "collapsed": false
   },
   "id": "7d339ef35dbb2361",
   "execution_count": null,
   "outputs": []
  }
 ],
 "metadata": {
  "kernelspec": {
   "display_name": "Python 3",
   "language": "python",
   "name": "python3"
  },
  "language_info": {
   "codemirror_mode": {
    "name": "ipython",
    "version": 2
   },
   "file_extension": ".py",
   "mimetype": "text/x-python",
   "name": "python",
   "nbconvert_exporter": "python",
   "pygments_lexer": "ipython2",
   "version": "2.7.6"
  }
 },
 "nbformat": 4,
 "nbformat_minor": 5
}
