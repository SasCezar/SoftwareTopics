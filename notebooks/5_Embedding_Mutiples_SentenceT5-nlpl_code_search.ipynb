{
 "cells": [
  {
   "cell_type": "code",
   "execution_count": 1,
   "id": "initial_id",
   "metadata": {
    "collapsed": true,
    "ExecuteTime": {
     "end_time": "2023-12-13T09:39:38.269363925Z",
     "start_time": "2023-12-13T09:39:37.691867514Z"
    }
   },
   "outputs": [],
   "source": [
    "import glob\n",
    "import random\n",
    "\n",
    "import numpy as np\n",
    "import json\n",
    "import plotly.express as px\n",
    "\n",
    "projects_base_path = '/home/sasce/Downloads/SoftwareTopics/data/raw/'\n",
    "projects_path = glob.glob(projects_base_path + '*.json')"
   ]
  },
  {
   "cell_type": "code",
   "execution_count": 2,
   "outputs": [],
   "source": [
    "def load_project_files(projects_path):\n",
    "    contents = []\n",
    "    project_name = []\n",
    "    file_labels = []\n",
    "    \n",
    "    for project_path in projects_path:\n",
    "        content = json.load(open(project_path, 'r'))\n",
    "        project = content['name']\n",
    "        files = content['versions'][0]['files']\n",
    "        filenames = [file for file in files]\n",
    "        identifiers = [files[file]['identifiers'] for file in filenames]\n",
    "        distributions = [files[file]['annotation']['distribution'] for file in filenames]\n",
    "        \n",
    "        labels = [np.argmax(distribution) for distribution in distributions]\n",
    "        file_labels.extend(labels)\n",
    "        contents.extend([\" \".join(code) for code in identifiers])\n",
    "        project_name.extend([project]*len(filenames))\n",
    "    return project_name, contents, file_labels"
   ],
   "metadata": {
    "collapsed": false,
    "ExecuteTime": {
     "end_time": "2023-12-13T09:39:38.271560699Z",
     "start_time": "2023-12-13T09:39:38.265276464Z"
    }
   },
   "id": "a2e482135ff1d85d"
  },
  {
   "cell_type": "code",
   "execution_count": 3,
   "outputs": [],
   "source": [
    "import re\n",
    "def split_camelcase(text: str):\n",
    "    return re.sub(\n",
    "        '([A-Z][a-z]+)|_', r' \\1', re.sub('([A-Z]+)', r' \\1', text)\n",
    "    ).split()\n"
   ],
   "metadata": {
    "collapsed": false,
    "ExecuteTime": {
     "end_time": "2023-12-13T09:39:38.316027939Z",
     "start_time": "2023-12-13T09:39:38.273370626Z"
    }
   },
   "id": "612a27080ae7035b"
  },
  {
   "cell_type": "code",
   "execution_count": 4,
   "outputs": [],
   "source": [
    "project_name, codes, labels = load_project_files(projects_path)"
   ],
   "metadata": {
    "collapsed": false,
    "ExecuteTime": {
     "end_time": "2023-12-13T09:39:54.899046010Z",
     "start_time": "2023-12-13T09:39:38.315914205Z"
    }
   },
   "id": "dde38a66356ba1cd"
  },
  {
   "cell_type": "code",
   "execution_count": 5,
   "outputs": [],
   "source": [
    "codes_split = [split_camelcase(code) for code in codes]\n",
    "codes_split = [\" \".join(code) for code in codes_split]"
   ],
   "metadata": {
    "collapsed": false,
    "ExecuteTime": {
     "end_time": "2023-12-13T09:41:06.428001380Z",
     "start_time": "2023-12-13T09:39:54.920587705Z"
    }
   },
   "id": "eec20aa507c0ee32"
  },
  {
   "cell_type": "code",
   "execution_count": 6,
   "outputs": [
    {
     "data": {
      "text/plain": "'org apache aries typedevent remote remoteservices impl java lang Boolean TRUE java util Collections empty List java util Collections empty Map java util Collections singleton Map org apache aries typedevent remote api Remote Event Constants RECEIVE REMOTE EVENTS org junit jupiter api Assertions assert Equals org junit jupiter api Assertions assert Null org osgi framework Framework Util create Filter java util Arrays java util Dictionary java util Hash Map org apache aries typedevent remote remoteservices spi Remote Event Bus org junit jupiter api After Each org junit jupiter api Before Each org junit jupiter api Test org mockito Argument Captor org mockito Mock org mockito Mockito org mockito Mockito Annotations org osgi framework Bundle Context org osgi framework Invalid Syntax Exception org osgi framework Service Reference org osgi framework Service Registration org osgi service typedevent Typed Event Bus Suppress Warnings Remote Event Bus Impl Test Mock Bundle Context context Mock Service Registration Remote Event Bus remote Reg Mock Service Reference Remote Event Bus remote Ref Mock Typed Event Bus event Bus Impl Remote Event Bus Impl remote Impl Auto Closeable mocks Before Each start mocks Mockito Annotations open Mocks Mockito when context register Service Mockito eq Remote Event Bus Mockito any Remote Event Bus Mockito any then Return remote Reg Mockito when remote Reg get Reference then Return remote Ref remote Impl Remote Event Bus Impl event Bus Impl Hash Map After Each destroy Exception remote Impl destroy mocks close Test test Empty Start remote Impl init context Argument Captor Dictionary String Object props Captor Argument Captor for Class Dictionary Mockito verify context register Service Mockito eq Remote Event Bus Mockito same remote Impl props Captor capture Dictionary String Object props props Captor get Value assert Null props Mockito verify remote Reg set Properties props Captor capture props props Captor get Value assert Equals Remote Event Bus get Name props get assert Equals empty List props get Remote Event Bus REMOTE EVENT FILTERS Test test Start With Details Invalid Syntax Exception remote Impl update Local Interest Arrays as List create Filter singleton Map RECEIVE REMOTE EVENTS TRUE remote Impl init context Argument Captor Dictionary String Object props Captor Argument Captor for Class Dictionary Mockito verify context register Service Mockito eq Remote Event Bus Mockito same remote Impl props Captor capture Dictionary String Object props props Captor get Value assert Null props Mockito verify remote Reg set Properties props Captor capture props props Captor get Value assert Equals Remote Event Bus get Name props get assert Equals Arrays as List props get Remote Event Bus REMOTE EVENT FILTERS Test test Late Register Of Listener Invalid Syntax Exception remote Impl init context Argument Captor Dictionary String Object props Captor Argument Captor for Class Dictionary Mockito verify context register Service Mockito eq Remote Event Bus Mockito same remote Impl props Captor capture Dictionary String Object props props Captor get Value assert Null props Mockito verify remote Reg set Properties props Captor capture props props Captor get Value assert Equals Remote Event Bus get Name props get assert Equals empty List props get Remote Event Bus REMOTE EVENT FILTERS remote Impl update Local Interest Arrays as List create Filter singleton Map RECEIVE REMOTE EVENTS TRUE Mockito verify remote Reg Mockito times set Properties props Captor capture props props Captor get Value assert Equals Remote Event Bus get Name props get assert Equals Arrays as List props get Remote Event Bus REMOTE EVENT FILTERS Test test Start With Non Remote Listener Invalid Syntax Exception remote Impl update Local Interest Arrays as List create Filter empty Map remote Impl init context Argument Captor Dictionary String Object props Captor Argument Captor for Class Dictionary Mockito verify context register Service Mockito eq Remote Event Bus Mockito same remote Impl props Captor capture Dictionary String Object props props Captor get Value assert Null props Mockito verify remote Reg set Properties props Captor capture props props Captor get Value assert Equals Remote Event Bus get Name props get assert Equals empty List props get Remote Event Bus REMOTE EVENT FILTERS'"
     },
     "execution_count": 6,
     "metadata": {},
     "output_type": "execute_result"
    }
   ],
   "source": [
    "codes_split[0]"
   ],
   "metadata": {
    "collapsed": false,
    "ExecuteTime": {
     "end_time": "2023-12-13T09:41:06.428684233Z",
     "start_time": "2023-12-13T09:41:06.427895088Z"
    }
   },
   "id": "17d1e85922ff088a"
  },
  {
   "cell_type": "code",
   "execution_count": 7,
   "outputs": [
    {
     "data": {
      "text/plain": ".gitattributes:   0%|          | 0.00/1.48k [00:00<?, ?B/s]",
      "application/vnd.jupyter.widget-view+json": {
       "version_major": 2,
       "version_minor": 0,
       "model_id": "035d93de0b944b5992e9e2e68231164d"
      }
     },
     "metadata": {},
     "output_type": "display_data"
    },
    {
     "data": {
      "text/plain": "1_Pooling/config.json:   0%|          | 0.00/190 [00:00<?, ?B/s]",
      "application/vnd.jupyter.widget-view+json": {
       "version_major": 2,
       "version_minor": 0,
       "model_id": "e3af3928880f475b8780f4a49c06a48d"
      }
     },
     "metadata": {},
     "output_type": "display_data"
    },
    {
     "data": {
      "text/plain": "2_Dense/config.json:   0%|          | 0.00/115 [00:00<?, ?B/s]",
      "application/vnd.jupyter.widget-view+json": {
       "version_major": 2,
       "version_minor": 0,
       "model_id": "39b3c34b09ac488996294e88eddf5455"
      }
     },
     "metadata": {},
     "output_type": "display_data"
    },
    {
     "data": {
      "text/plain": "pytorch_model.bin:   0%|          | 0.00/2.36M [00:00<?, ?B/s]",
      "application/vnd.jupyter.widget-view+json": {
       "version_major": 2,
       "version_minor": 0,
       "model_id": "7bf169c9a3a34b98aed19c77d49005be"
      }
     },
     "metadata": {},
     "output_type": "display_data"
    },
    {
     "data": {
      "text/plain": "README.md:   0%|          | 0.00/2.64k [00:00<?, ?B/s]",
      "application/vnd.jupyter.widget-view+json": {
       "version_major": 2,
       "version_minor": 0,
       "model_id": "d2984dd56b374008825c888bcf2f2585"
      }
     },
     "metadata": {},
     "output_type": "display_data"
    },
    {
     "data": {
      "text/plain": "config.json:   0%|          | 0.00/1.54k [00:00<?, ?B/s]",
      "application/vnd.jupyter.widget-view+json": {
       "version_major": 2,
       "version_minor": 0,
       "model_id": "2a4188883a1c49baac1b19b095bc1a64"
      }
     },
     "metadata": {},
     "output_type": "display_data"
    },
    {
     "data": {
      "text/plain": "config_sentence_transformers.json:   0%|          | 0.00/122 [00:00<?, ?B/s]",
      "application/vnd.jupyter.widget-view+json": {
       "version_major": 2,
       "version_minor": 0,
       "model_id": "013792594e7a4e7ebb7f6f6be28b1f7e"
      }
     },
     "metadata": {},
     "output_type": "display_data"
    },
    {
     "data": {
      "text/plain": "pytorch_model.bin:   0%|          | 0.00/439M [00:00<?, ?B/s]",
      "application/vnd.jupyter.widget-view+json": {
       "version_major": 2,
       "version_minor": 0,
       "model_id": "2146ec28988440f7b54349121ec1eccf"
      }
     },
     "metadata": {},
     "output_type": "display_data"
    },
    {
     "data": {
      "text/plain": "sentence_bert_config.json:   0%|          | 0.00/53.0 [00:00<?, ?B/s]",
      "application/vnd.jupyter.widget-view+json": {
       "version_major": 2,
       "version_minor": 0,
       "model_id": "8069d7ce53f447b58f1c5e3b21ad3bb8"
      }
     },
     "metadata": {},
     "output_type": "display_data"
    },
    {
     "data": {
      "text/plain": "special_tokens_map.json:   0%|          | 0.00/2.20k [00:00<?, ?B/s]",
      "application/vnd.jupyter.widget-view+json": {
       "version_major": 2,
       "version_minor": 0,
       "model_id": "2dc6069d4e384b8ab45188b1617d322b"
      }
     },
     "metadata": {},
     "output_type": "display_data"
    },
    {
     "data": {
      "text/plain": "spiece.model:   0%|          | 0.00/792k [00:00<?, ?B/s]",
      "application/vnd.jupyter.widget-view+json": {
       "version_major": 2,
       "version_minor": 0,
       "model_id": "c1f22e92cc764cee8dfa650fa9d6bd6f"
      }
     },
     "metadata": {},
     "output_type": "display_data"
    },
    {
     "data": {
      "text/plain": "tokenizer.json:   0%|          | 0.00/2.42M [00:00<?, ?B/s]",
      "application/vnd.jupyter.widget-view+json": {
       "version_major": 2,
       "version_minor": 0,
       "model_id": "d8ad491bf53f47369bfeddcd4e81116d"
      }
     },
     "metadata": {},
     "output_type": "display_data"
    },
    {
     "data": {
      "text/plain": "tokenizer_config.json:   0%|          | 0.00/2.42k [00:00<?, ?B/s]",
      "application/vnd.jupyter.widget-view+json": {
       "version_major": 2,
       "version_minor": 0,
       "model_id": "1f7455cf7ffa410bae8a63e7bbc430bf"
      }
     },
     "metadata": {},
     "output_type": "display_data"
    },
    {
     "data": {
      "text/plain": "modules.json:   0%|          | 0.00/461 [00:00<?, ?B/s]",
      "application/vnd.jupyter.widget-view+json": {
       "version_major": 2,
       "version_minor": 0,
       "model_id": "f5680e9c6ea54ee8865420fd1d57a7d4"
      }
     },
     "metadata": {},
     "output_type": "display_data"
    }
   ],
   "source": [
    "from sentence_transformers import SentenceTransformer\n",
    "\n",
    "# Pre-calculate embeddings\n",
    "embedding_model = SentenceTransformer(\"krlvi/sentence-t5-base-nlpl-code_search_net\")\n"
   ],
   "metadata": {
    "collapsed": false,
    "ExecuteTime": {
     "end_time": "2023-12-13T09:41:52.267234211Z",
     "start_time": "2023-12-13T09:41:06.428078977Z"
    }
   },
   "id": "d91f2e75303e0c06"
  },
  {
   "cell_type": "code",
   "execution_count": 8,
   "outputs": [
    {
     "data": {
      "text/plain": "Batches:   0%|          | 0/3650 [00:00<?, ?it/s]",
      "application/vnd.jupyter.widget-view+json": {
       "version_major": 2,
       "version_minor": 0,
       "model_id": "44989b931ddd47a88db2a0d434650cc1"
      }
     },
     "metadata": {},
     "output_type": "display_data"
    }
   ],
   "source": [
    "embeddings = embedding_model.encode(codes, show_progress_bar=True)"
   ],
   "metadata": {
    "collapsed": false,
    "ExecuteTime": {
     "end_time": "2023-12-13T11:02:20.303995311Z",
     "start_time": "2023-12-13T09:41:52.270372076Z"
    }
   },
   "id": "c9c83b9d0fed7619"
  },
  {
   "cell_type": "code",
   "execution_count": 9,
   "outputs": [],
   "source": [
    "precomputes = np.array(embeddings)\n",
    "with open('precomputes_sentence_t5.npy', 'wb') as f:\n",
    "    np.save(f, precomputes)\n",
    "#embeddings_split = embedding_model.encode(codes_split, show_progress_bar=True)"
   ],
   "metadata": {
    "collapsed": false,
    "ExecuteTime": {
     "end_time": "2023-12-13T11:02:20.832485214Z",
     "start_time": "2023-12-13T11:02:20.309243526Z"
    }
   },
   "id": "8e7f9369bd4bf6ef"
  },
  {
   "cell_type": "code",
   "execution_count": 10,
   "outputs": [],
   "source": [
    "with open('precomputes_sentence_t5.npy', 'rb') as f:\n",
    "    precomputes = np.load(f)"
   ],
   "metadata": {
    "collapsed": false,
    "ExecuteTime": {
     "end_time": "2023-12-13T11:02:21.008168545Z",
     "start_time": "2023-12-13T11:02:20.835956110Z"
    }
   },
   "id": "348cfdff4de7ccde"
  },
  {
   "cell_type": "code",
   "execution_count": 11,
   "outputs": [
    {
     "name": "stderr",
     "output_type": "stream",
     "text": [
      "\n",
      "KeyboardInterrupt\n",
      "\n"
     ]
    }
   ],
   "source": [
    "from umap import UMAP\n",
    "from hdbscan import HDBSCAN\n",
    "\n",
    "umap_model = UMAP(n_neighbors=15, n_components=5, min_dist=0.0, metric='cosine', random_state=42)\n",
    "hdbscan_model = HDBSCAN(min_cluster_size=150, metric='euclidean', cluster_selection_method='eom', prediction_data=True)"
   ],
   "metadata": {
    "collapsed": false,
    "ExecuteTime": {
     "end_time": "2023-12-13T11:02:27.902452302Z",
     "start_time": "2023-12-13T11:02:20.999017731Z"
    }
   },
   "id": "a5770cd1616b703c"
  },
  {
   "cell_type": "code",
   "execution_count": null,
   "outputs": [],
   "source": [
    "\n",
    "embeddings = precomputes"
   ],
   "metadata": {
    "collapsed": false,
    "ExecuteTime": {
     "end_time": "2023-12-13T11:02:27.940588318Z",
     "start_time": "2023-12-13T11:02:27.906462618Z"
    }
   },
   "id": "e7c882f9e9ef9f56"
  },
  {
   "cell_type": "code",
   "execution_count": null,
   "outputs": [],
   "source": [
    "embeddings = np.array(embeddings)"
   ],
   "metadata": {
    "collapsed": false,
    "ExecuteTime": {
     "start_time": "2023-12-13T11:02:27.909319479Z"
    }
   },
   "id": "92caf2b6561e6dbe"
  },
  {
   "cell_type": "code",
   "execution_count": null,
   "outputs": [],
   "source": [
    "# Pre-reduce embeddings for visualization purposes\n",
    "reduced_embeddings = UMAP(n_neighbors=15, n_components=2, min_dist=0.5, metric='cosine', random_state=42).fit(embeddings)\n",
    "#reduced_embeddings_split = UMAP(n_neighbors=15, n_components=2, min_dist=0.0, metric='cosine', random_state=42).fit(embeddings_split)"
   ],
   "metadata": {
    "collapsed": false,
    "ExecuteTime": {
     "start_time": "2023-12-13T11:02:27.912714949Z"
    }
   },
   "id": "b2cea683eeeae604"
  },
  {
   "cell_type": "code",
   "execution_count": null,
   "outputs": [],
   "source": [
    "labels_plot = []\n",
    "seen = {}\n",
    "for name in project_name:\n",
    "    if name not in seen:\n",
    "        seen[name] = len(seen)\n",
    "    labels_plot.append(seen[name])\n",
    "labels_plot = np.array(labels_plot)\n",
    "names = {seen[name]: name for name in seen}"
   ],
   "metadata": {
    "collapsed": false,
    "ExecuteTime": {
     "start_time": "2023-12-13T11:02:27.916299267Z"
    }
   },
   "id": "374e01cd3f19e307"
  },
  {
   "cell_type": "code",
   "execution_count": null,
   "outputs": [],
   "source": [
    "import umap.plot\n",
    "umap.plot.points(reduced_embeddings, labels=labels_plot)"
   ],
   "metadata": {
    "collapsed": false,
    "ExecuteTime": {
     "start_time": "2023-12-13T11:02:27.960116987Z"
    }
   },
   "id": "89700095c607ef1e"
  },
  {
   "cell_type": "code",
   "execution_count": null,
   "outputs": [],
   "source": [
    "# Pre-reduce embeddings for visualization purposes\n",
    "reduced_embeddings = UMAP(n_neighbors=15, n_components=2, min_dist=0.15, metric='cosine').fit(embeddings)\n",
    "\n",
    "umap.plot.points(reduced_embeddings, labels=labels_plot)"
   ],
   "metadata": {
    "collapsed": false,
    "ExecuteTime": {
     "start_time": "2023-12-13T11:02:27.960404832Z"
    }
   },
   "id": "6b8320f8a18dc907"
  },
  {
   "cell_type": "code",
   "execution_count": null,
   "outputs": [],
   "source": [
    "# Pre-reduce embeddings for visualization purposes\n",
    "reduced_embeddings = UMAP(densmap=True, n_neighbors=15, n_components=3, min_dist=0.15, metric='cosine').fit_transform(embeddings)"
   ],
   "metadata": {
    "collapsed": false,
    "ExecuteTime": {
     "end_time": "2023-12-13T11:02:28.064452447Z",
     "start_time": "2023-12-13T11:02:27.960586475Z"
    }
   },
   "id": "86b36117a4e218ea"
  },
  {
   "cell_type": "code",
   "execution_count": null,
   "outputs": [],
   "source": [
    "\n",
    "fig_3d = px.scatter_3d(\n",
    "    reduced_embeddings, x=0, y=1, z=2,\n",
    "    color=labels_plot)"
   ],
   "metadata": {
    "collapsed": false,
    "ExecuteTime": {
     "start_time": "2023-12-13T11:02:27.960732565Z"
    }
   },
   "id": "59c27c6e9fd76f02"
  },
  {
   "cell_type": "code",
   "execution_count": null,
   "outputs": [],
   "source": [
    "fig_3d.show()"
   ],
   "metadata": {
    "collapsed": false,
    "ExecuteTime": {
     "start_time": "2023-12-13T11:02:27.960855950Z"
    }
   },
   "id": "f7e4b753abafafd3"
  },
  {
   "cell_type": "code",
   "execution_count": null,
   "outputs": [],
   "source": [
    "fig_3d = px.scatter_3d(\n",
    "    reduced_embeddings, x=0, y=1, z=2,\n",
    "    color=labels, labels=project_name)\n",
    "fig_3d.show()"
   ],
   "metadata": {
    "collapsed": false,
    "ExecuteTime": {
     "start_time": "2023-12-13T11:02:27.962520650Z"
    }
   },
   "id": "336bddc620cde7dc"
  },
  {
   "cell_type": "code",
   "execution_count": null,
   "outputs": [],
   "source": [],
   "metadata": {
    "collapsed": false,
    "ExecuteTime": {
     "start_time": "2023-12-13T11:02:27.962687806Z"
    }
   },
   "id": "1b9a9669e2cb9e81"
  }
 ],
 "metadata": {
  "kernelspec": {
   "display_name": "Python 3",
   "language": "python",
   "name": "python3"
  },
  "language_info": {
   "codemirror_mode": {
    "name": "ipython",
    "version": 2
   },
   "file_extension": ".py",
   "mimetype": "text/x-python",
   "name": "python",
   "nbconvert_exporter": "python",
   "pygments_lexer": "ipython2",
   "version": "2.7.6"
  }
 },
 "nbformat": 4,
 "nbformat_minor": 5
}
