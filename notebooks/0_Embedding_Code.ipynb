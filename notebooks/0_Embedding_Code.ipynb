{
 "cells": [
  {
   "cell_type": "code",
   "execution_count": 73,
   "id": "initial_id",
   "metadata": {
    "collapsed": true,
    "ExecuteTime": {
     "end_time": "2023-12-12T11:04:44.547515081Z",
     "start_time": "2023-12-12T11:04:44.540606056Z"
    }
   },
   "source": [
    "import numpy as np\n",
    "\n",
    "project_path = '/home/sasce/Downloads/SoftwareTopics/data/raw/astrixdb-graph.json'"
   ],
   "outputs": []
  },
  {
   "cell_type": "code",
   "execution_count": 74,
   "source": [
    "import json\n",
    "\n",
    "content = json.load(open(project_path, 'r'))\n"
   ],
   "metadata": {
    "collapsed": false,
    "ExecuteTime": {
     "end_time": "2023-12-12T11:04:44.579349501Z",
     "start_time": "2023-12-12T11:04:44.549271636Z"
    }
   },
   "id": "b3edb25dc9af5788",
   "outputs": []
  },
  {
   "cell_type": "code",
   "execution_count": 75,
   "source": [
    "files = content['versions'][0]['files']\n",
    "filenames = [file for file in files]\n",
    "codes = [files[file]['identifiers'] for file in filenames]\n",
    "distributions = [files[file]['annotation']['distribution'] for file in filenames]"
   ],
   "metadata": {
    "collapsed": false,
    "ExecuteTime": {
     "end_time": "2023-12-12T11:04:44.581574323Z",
     "start_time": "2023-12-12T11:04:44.579378668Z"
    }
   },
   "id": "e5657c65837f69f9",
   "outputs": []
  },
  {
   "cell_type": "code",
   "execution_count": 76,
   "source": [
    "taxonomy = {int(k): v for k, v in content['taxonomy'].items()}"
   ],
   "metadata": {
    "collapsed": false,
    "ExecuteTime": {
     "end_time": "2023-12-12T11:04:44.582072711Z",
     "start_time": "2023-12-12T11:04:44.579495751Z"
    }
   },
   "id": "8ee07e5ede29aa13",
   "outputs": []
  },
  {
   "cell_type": "code",
   "execution_count": 77,
   "source": [
    "\n",
    "labels = [np.argmax(distribution) for distribution in distributions]"
   ],
   "metadata": {
    "collapsed": false,
    "ExecuteTime": {
     "end_time": "2023-12-12T11:04:44.594551178Z",
     "start_time": "2023-12-12T11:04:44.579570299Z"
    }
   },
   "id": "c7163847e0ee7def",
   "outputs": []
  },
  {
   "cell_type": "code",
   "execution_count": 78,
   "source": [
    "codes = [\" \".join(code) for code in codes]"
   ],
   "metadata": {
    "collapsed": false,
    "ExecuteTime": {
     "end_time": "2023-12-12T11:04:44.597386708Z",
     "start_time": "2023-12-12T11:04:44.580987925Z"
    }
   },
   "id": "ce7275df919d5a32",
   "outputs": []
  },
  {
   "cell_type": "code",
   "execution_count": 79,
   "source": [
    "import re\n",
    "def split_camelcase(text: str):\n",
    "    return re.sub(\n",
    "        '([A-Z][a-z]+)|_', r' \\1', re.sub('([A-Z]+)', r' \\1', text)\n",
    "    ).split()\n"
   ],
   "metadata": {
    "collapsed": false,
    "ExecuteTime": {
     "end_time": "2023-12-12T11:04:44.597886460Z",
     "start_time": "2023-12-12T11:04:44.594840925Z"
    }
   },
   "id": "612a27080ae7035b",
   "outputs": []
  },
  {
   "cell_type": "code",
   "execution_count": 80,
   "source": [
    "codes_split = [split_camelcase(code) for code in codes]\n",
    "codes_split = [\" \".join(code) for code in codes_split]"
   ],
   "metadata": {
    "collapsed": false,
    "ExecuteTime": {
     "end_time": "2023-12-12T11:04:44.710455693Z",
     "start_time": "2023-12-12T11:04:44.599731823Z"
    }
   },
   "id": "eec20aa507c0ee32",
   "outputs": []
  },
  {
   "cell_type": "code",
   "execution_count": 81,
   "source": [
    "codes_split[0]"
   ],
   "metadata": {
    "collapsed": false,
    "ExecuteTime": {
     "end_time": "2023-12-12T11:04:44.711426014Z",
     "start_time": "2023-12-12T11:04:44.710340448Z"
    }
   },
   "id": "17d1e85922ff088a",
   "outputs": []
  },
  {
   "cell_type": "code",
   "execution_count": 82,
   "source": [
    "from sentence_transformers import SentenceTransformer\n",
    "\n",
    "# Pre-calculate embeddings\n",
    "embedding_model = SentenceTransformer(\"BAAI/bge-small-en-v1.5\")\n"
   ],
   "metadata": {
    "collapsed": false,
    "ExecuteTime": {
     "end_time": "2023-12-12T11:04:44.786023097Z",
     "start_time": "2023-12-12T11:04:44.710576264Z"
    }
   },
   "id": "d91f2e75303e0c06",
   "outputs": []
  },
  {
   "cell_type": "code",
   "execution_count": 83,
   "source": [
    "embeddings = embedding_model.encode(codes, show_progress_bar=True)"
   ],
   "metadata": {
    "collapsed": false,
    "ExecuteTime": {
     "end_time": "2023-12-12T11:04:47.631389923Z",
     "start_time": "2023-12-12T11:04:44.786755630Z"
    }
   },
   "id": "c9c83b9d0fed7619",
   "outputs": []
  },
  {
   "cell_type": "code",
   "execution_count": 84,
   "source": [
    "embeddings_split = embedding_model.encode(codes_split, show_progress_bar=True)"
   ],
   "metadata": {
    "collapsed": false,
    "ExecuteTime": {
     "end_time": "2023-12-12T11:04:50.211148807Z",
     "start_time": "2023-12-12T11:04:47.633086912Z"
    }
   },
   "id": "8e7f9369bd4bf6ef",
   "outputs": []
  },
  {
   "cell_type": "code",
   "execution_count": 85,
   "source": [
    "from umap import UMAP\n",
    "from hdbscan import HDBSCAN\n",
    "\n",
    "umap_model = UMAP(n_neighbors=15, n_components=5, min_dist=0.0, metric='cosine', random_state=42)\n",
    "hdbscan_model = HDBSCAN(min_cluster_size=150, metric='euclidean', cluster_selection_method='eom', prediction_data=True)"
   ],
   "metadata": {
    "collapsed": false,
    "ExecuteTime": {
     "end_time": "2023-12-12T11:04:50.217356974Z",
     "start_time": "2023-12-12T11:04:50.213098735Z"
    }
   },
   "id": "a5770cd1616b703c",
   "outputs": []
  },
  {
   "cell_type": "code",
   "execution_count": 86,
   "source": [
    "# Pre-reduce embeddings for visualization purposes\n",
    "reduced_embeddings = UMAP(n_neighbors=15, n_components=2, min_dist=0.0, metric='cosine', random_state=42).fit(embeddings)\n",
    "reduced_embeddings_split = UMAP(n_neighbors=15, n_components=2, min_dist=0.0, metric='cosine', random_state=42).fit(embeddings_split)"
   ],
   "metadata": {
    "collapsed": false,
    "ExecuteTime": {
     "end_time": "2023-12-12T11:04:51.536632529Z",
     "start_time": "2023-12-12T11:04:50.216045066Z"
    }
   },
   "id": "b2cea683eeeae604",
   "outputs": []
  },
  {
   "cell_type": "code",
   "execution_count": 91,
   "source": [
    "type(embeddings)"
   ],
   "metadata": {
    "collapsed": false,
    "ExecuteTime": {
     "end_time": "2023-12-12T11:05:05.470701132Z",
     "start_time": "2023-12-12T11:05:05.423819488Z"
    }
   },
   "id": "374e01cd3f19e307",
   "outputs": []
  },
  {
   "cell_type": "code",
   "execution_count": 88,
   "source": [
    "import umap.plot\n",
    "umap.plot.points(reduced_embeddings, labels=np.array(labels))"
   ],
   "metadata": {
    "collapsed": false,
    "ExecuteTime": {
     "end_time": "2023-12-12T11:04:51.757227239Z",
     "start_time": "2023-12-12T11:04:51.543595498Z"
    }
   },
   "id": "89700095c607ef1e",
   "outputs": []
  },
  {
   "cell_type": "code",
   "execution_count": 89,
   "source": [
    "\n",
    "umap.plot.points(reduced_embeddings_split, labels=np.array(labels))"
   ],
   "metadata": {
    "collapsed": false,
    "ExecuteTime": {
     "end_time": "2023-12-12T11:04:52.041200970Z",
     "start_time": "2023-12-12T11:04:51.778980718Z"
    }
   },
   "id": "6b8320f8a18dc907",
   "outputs": []
  }
 ],
 "metadata": {
  "kernelspec": {
   "display_name": "Python 3",
   "language": "python",
   "name": "python3"
  },
  "language_info": {
   "codemirror_mode": {
    "name": "ipython",
    "version": 2
   },
   "file_extension": ".py",
   "mimetype": "text/x-python",
   "name": "python",
   "nbconvert_exporter": "python",
   "pygments_lexer": "ipython2",
   "version": "2.7.6"
  }
 },
 "nbformat": 4,
 "nbformat_minor": 5
}
